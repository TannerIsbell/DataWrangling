{
 "cells": [
  {
   "cell_type": "markdown",
   "metadata": {
    "id": "GNIwe5N7s0e_"
   },
   "source": [
    "# Real-world Data Wrangling"
   ]
  },
  {
   "cell_type": "markdown",
   "metadata": {
    "id": "_BG63Tpg8ep_"
   },
   "source": [
    "In this project, you will apply the skills you acquired in the course to gather and wrangle real-world data with two datasets of your choice.\n",
    "\n",
    "You will retrieve and extract the data, assess the data programmatically and visually, accross elements of data quality and structure, and implement a cleaning strategy for the data. You will then store the updated data into your selected database/data store, combine the data, and answer a research question with the datasets.\n",
    "\n",
    "Throughout the process, you are expected to:\n",
    "\n",
    "1. Explain your decisions towards methods used for gathering, assessing, cleaning, storing, and answering the research question\n",
    "2. Write code comments so your code is more readable"
   ]
  },
  {
   "cell_type": "code",
   "execution_count": 100,
   "metadata": {},
   "outputs": [
    {
     "name": "stderr",
     "output_type": "stream",
     "text": [
      "ERROR: Could not find a version that satisfies the requirement os (from versions: none)\n",
      "\n",
      "[notice] A new release of pip is available: 24.3.1 -> 25.1.1\n",
      "[notice] To update, run: python.exe -m pip install --upgrade pip\n",
      "ERROR: No matching distribution found for os\n"
     ]
    },
    {
     "name": "stdout",
     "output_type": "stream",
     "text": [
      "Requirement already satisfied: pandas in c:\\users\\tisbe\\appdata\\local\\programs\\python\\python313\\lib\\site-packages (2.3.0)\n",
      "Requirement already satisfied: numpy>=1.26.0 in c:\\users\\tisbe\\appdata\\local\\programs\\python\\python313\\lib\\site-packages (from pandas) (2.2.6)\n",
      "Requirement already satisfied: python-dateutil>=2.8.2 in c:\\users\\tisbe\\appdata\\roaming\\python\\python313\\site-packages (from pandas) (2.9.0.post0)\n",
      "Requirement already satisfied: pytz>=2020.1 in c:\\users\\tisbe\\appdata\\local\\programs\\python\\python313\\lib\\site-packages (from pandas) (2025.2)\n",
      "Requirement already satisfied: tzdata>=2022.7 in c:\\users\\tisbe\\appdata\\local\\programs\\python\\python313\\lib\\site-packages (from pandas) (2025.2)\n",
      "Requirement already satisfied: six>=1.5 in c:\\users\\tisbe\\appdata\\roaming\\python\\python313\\site-packages (from python-dateutil>=2.8.2->pandas) (1.17.0)\n"
     ]
    },
    {
     "name": "stderr",
     "output_type": "stream",
     "text": [
      "\n",
      "[notice] A new release of pip is available: 24.3.1 -> 25.1.1\n",
      "[notice] To update, run: python.exe -m pip install --upgrade pip\n"
     ]
    },
    {
     "name": "stdout",
     "output_type": "stream",
     "text": [
      "Requirement already satisfied: requests in c:\\users\\tisbe\\appdata\\local\\programs\\python\\python313\\lib\\site-packages (2.32.3)\n",
      "Requirement already satisfied: charset-normalizer<4,>=2 in c:\\users\\tisbe\\appdata\\local\\programs\\python\\python313\\lib\\site-packages (from requests) (3.4.2)\n",
      "Requirement already satisfied: idna<4,>=2.5 in c:\\users\\tisbe\\appdata\\local\\programs\\python\\python313\\lib\\site-packages (from requests) (3.10)\n",
      "Requirement already satisfied: urllib3<3,>=1.21.1 in c:\\users\\tisbe\\appdata\\local\\programs\\python\\python313\\lib\\site-packages (from requests) (2.4.0)\n",
      "Requirement already satisfied: certifi>=2017.4.17 in c:\\users\\tisbe\\appdata\\local\\programs\\python\\python313\\lib\\site-packages (from requests) (2025.4.26)\n"
     ]
    },
    {
     "name": "stderr",
     "output_type": "stream",
     "text": [
      "\n",
      "[notice] A new release of pip is available: 24.3.1 -> 25.1.1\n",
      "[notice] To update, run: python.exe -m pip install --upgrade pip\n"
     ]
    },
    {
     "name": "stdout",
     "output_type": "stream",
     "text": [
      "Requirement already satisfied: kaggle in c:\\users\\tisbe\\appdata\\local\\programs\\python\\python313\\lib\\site-packages (1.7.4.5)\n",
      "Requirement already satisfied: bleach in c:\\users\\tisbe\\appdata\\local\\programs\\python\\python313\\lib\\site-packages (from kaggle) (6.2.0)\n",
      "Requirement already satisfied: certifi>=14.05.14 in c:\\users\\tisbe\\appdata\\local\\programs\\python\\python313\\lib\\site-packages (from kaggle) (2025.4.26)\n",
      "Requirement already satisfied: charset-normalizer in c:\\users\\tisbe\\appdata\\local\\programs\\python\\python313\\lib\\site-packages (from kaggle) (3.4.2)\n",
      "Requirement already satisfied: idna in c:\\users\\tisbe\\appdata\\local\\programs\\python\\python313\\lib\\site-packages (from kaggle) (3.10)\n",
      "Requirement already satisfied: protobuf in c:\\users\\tisbe\\appdata\\local\\programs\\python\\python313\\lib\\site-packages (from kaggle) (6.31.1)\n",
      "Requirement already satisfied: python-dateutil>=2.5.3 in c:\\users\\tisbe\\appdata\\roaming\\python\\python313\\site-packages (from kaggle) (2.9.0.post0)\n",
      "Requirement already satisfied: python-slugify in c:\\users\\tisbe\\appdata\\local\\programs\\python\\python313\\lib\\site-packages (from kaggle) (8.0.4)\n",
      "Requirement already satisfied: requests in c:\\users\\tisbe\\appdata\\local\\programs\\python\\python313\\lib\\site-packages (from kaggle) (2.32.3)\n",
      "Requirement already satisfied: setuptools>=21.0.0 in c:\\users\\tisbe\\appdata\\local\\programs\\python\\python313\\lib\\site-packages (from kaggle) (80.9.0)\n",
      "Requirement already satisfied: six>=1.10 in c:\\users\\tisbe\\appdata\\roaming\\python\\python313\\site-packages (from kaggle) (1.17.0)\n",
      "Requirement already satisfied: text-unidecode in c:\\users\\tisbe\\appdata\\local\\programs\\python\\python313\\lib\\site-packages (from kaggle) (1.3)\n",
      "Requirement already satisfied: tqdm in c:\\users\\tisbe\\appdata\\local\\programs\\python\\python313\\lib\\site-packages (from kaggle) (4.67.1)\n",
      "Requirement already satisfied: urllib3>=1.15.1 in c:\\users\\tisbe\\appdata\\local\\programs\\python\\python313\\lib\\site-packages (from kaggle) (2.4.0)\n",
      "Requirement already satisfied: webencodings in c:\\users\\tisbe\\appdata\\local\\programs\\python\\python313\\lib\\site-packages (from kaggle) (0.5.1)\n",
      "Requirement already satisfied: colorama in c:\\users\\tisbe\\appdata\\roaming\\python\\python313\\site-packages (from tqdm->kaggle) (0.4.6)\n"
     ]
    },
    {
     "name": "stderr",
     "output_type": "stream",
     "text": [
      "\n",
      "[notice] A new release of pip is available: 24.3.1 -> 25.1.1\n",
      "[notice] To update, run: python.exe -m pip install --upgrade pip\n"
     ]
    },
    {
     "name": "stdout",
     "output_type": "stream",
     "text": [
      "Requirement already satisfied: matplotlib in c:\\users\\tisbe\\appdata\\local\\programs\\python\\python313\\lib\\site-packages (3.10.3)\n",
      "Requirement already satisfied: contourpy>=1.0.1 in c:\\users\\tisbe\\appdata\\local\\programs\\python\\python313\\lib\\site-packages (from matplotlib) (1.3.2)\n",
      "Requirement already satisfied: cycler>=0.10 in c:\\users\\tisbe\\appdata\\local\\programs\\python\\python313\\lib\\site-packages (from matplotlib) (0.12.1)\n",
      "Requirement already satisfied: fonttools>=4.22.0 in c:\\users\\tisbe\\appdata\\local\\programs\\python\\python313\\lib\\site-packages (from matplotlib) (4.58.2)\n",
      "Requirement already satisfied: kiwisolver>=1.3.1 in c:\\users\\tisbe\\appdata\\local\\programs\\python\\python313\\lib\\site-packages (from matplotlib) (1.4.8)\n",
      "Requirement already satisfied: numpy>=1.23 in c:\\users\\tisbe\\appdata\\local\\programs\\python\\python313\\lib\\site-packages (from matplotlib) (2.2.6)\n",
      "Requirement already satisfied: packaging>=20.0 in c:\\users\\tisbe\\appdata\\roaming\\python\\python313\\site-packages (from matplotlib) (25.0)\n",
      "Requirement already satisfied: pillow>=8 in c:\\users\\tisbe\\appdata\\local\\programs\\python\\python313\\lib\\site-packages (from matplotlib) (11.2.1)\n",
      "Requirement already satisfied: pyparsing>=2.3.1 in c:\\users\\tisbe\\appdata\\local\\programs\\python\\python313\\lib\\site-packages (from matplotlib) (3.2.3)\n",
      "Requirement already satisfied: python-dateutil>=2.7 in c:\\users\\tisbe\\appdata\\roaming\\python\\python313\\site-packages (from matplotlib) (2.9.0.post0)\n",
      "Requirement already satisfied: six>=1.5 in c:\\users\\tisbe\\appdata\\roaming\\python\\python313\\site-packages (from python-dateutil>=2.7->matplotlib) (1.17.0)\n"
     ]
    },
    {
     "name": "stderr",
     "output_type": "stream",
     "text": [
      "\n",
      "[notice] A new release of pip is available: 24.3.1 -> 25.1.1\n",
      "[notice] To update, run: python.exe -m pip install --upgrade pip\n"
     ]
    }
   ],
   "source": [
    "#install needed packages\n",
    "!pip install os  \n",
    "!pip install pandas\n",
    "!pip install requests\n",
    "!pip install kaggle\n",
    "!pip install matplotlib"
   ]
  },
  {
   "cell_type": "code",
   "execution_count": 101,
   "metadata": {},
   "outputs": [],
   "source": [
    "#imports\n",
    "import pandas as pd\n",
    "import requests\n",
    "import os\n",
    "import kaggle\n",
    "import matplotlib.pyplot as plt"
   ]
  },
  {
   "cell_type": "markdown",
   "metadata": {
    "id": "lDYDkH-Zs7Nn"
   },
   "source": [
    "## 1. Gather data\n",
    "\n",
    "In this section, you will extract data using two different data gathering methods and combine the data. Use at least two different types of data-gathering methods."
   ]
  },
  {
   "cell_type": "markdown",
   "metadata": {
    "id": "LbN7z7rcuqpO"
   },
   "source": [
    "### **1.1.** Problem Statement\n",
    "\n",
    "I want to take a look at how increases in money correlate with a movies Rotten Tomatoes score. Specifically I will take a look at how gross revenue and budget impact the movies score on Rotten Tomatoes."
   ]
  },
  {
   "cell_type": "markdown",
   "metadata": {
    "id": "8AQfBAdUypMm"
   },
   "source": [
    "### **1.2.** Gather at least two datasets using two different data gathering methods\n"
   ]
  },
  {
   "cell_type": "markdown",
   "metadata": {
    "id": "7e6gS0wL1KTu"
   },
   "source": [
    "#### **Dataset 1: Rotten Tomatoes**\n",
    "\n",
    "I selected this dataset as it contains the Rotten Tomatoes Tomatometer score for the movies.\n",
    "\n",
    "Type: CSV File\n",
    "\n",
    "Method: Manually downloaded\n",
    "\n",
    "Dataset variables:\n",
    "\n",
    "*   Rank: Ranking of the movie on the list\n",
    "*   Title: The title of the movie\n",
    "*   RatingTomatometer: The rating of the movie on Rotten Tomatoes\n",
    "*   No. of Reviews: The number of reviews the movies has received\n",
    "*   Genres: The genre classification of the movie"
   ]
  },
  {
   "cell_type": "code",
   "execution_count": 102,
   "metadata": {
    "id": "Su8E0uLuYkHU"
   },
   "outputs": [
    {
     "data": {
      "text/html": [
       "<div>\n",
       "<style scoped>\n",
       "    .dataframe tbody tr th:only-of-type {\n",
       "        vertical-align: middle;\n",
       "    }\n",
       "\n",
       "    .dataframe tbody tr th {\n",
       "        vertical-align: top;\n",
       "    }\n",
       "\n",
       "    .dataframe thead th {\n",
       "        text-align: right;\n",
       "    }\n",
       "</style>\n",
       "<table border=\"1\" class=\"dataframe\">\n",
       "  <thead>\n",
       "    <tr style=\"text-align: right;\">\n",
       "      <th></th>\n",
       "      <th>Rank</th>\n",
       "      <th>Title</th>\n",
       "      <th>RatingTomatometer</th>\n",
       "      <th>No. of Reviews</th>\n",
       "      <th>Genres</th>\n",
       "    </tr>\n",
       "    <tr>\n",
       "      <th>index</th>\n",
       "      <th></th>\n",
       "      <th></th>\n",
       "      <th></th>\n",
       "      <th></th>\n",
       "      <th></th>\n",
       "    </tr>\n",
       "  </thead>\n",
       "  <tbody>\n",
       "    <tr>\n",
       "      <th>0</th>\n",
       "      <td>1</td>\n",
       "      <td>Black Panther (2018)</td>\n",
       "      <td>97</td>\n",
       "      <td>444</td>\n",
       "      <td>action|adventure</td>\n",
       "    </tr>\n",
       "    <tr>\n",
       "      <th>1</th>\n",
       "      <td>2</td>\n",
       "      <td>Mad Max: Fury Road (2015)</td>\n",
       "      <td>97</td>\n",
       "      <td>394</td>\n",
       "      <td>action|adventure</td>\n",
       "    </tr>\n",
       "    <tr>\n",
       "      <th>2</th>\n",
       "      <td>3</td>\n",
       "      <td>Wonder Woman (2017)</td>\n",
       "      <td>93</td>\n",
       "      <td>410</td>\n",
       "      <td>action|adventure</td>\n",
       "    </tr>\n",
       "    <tr>\n",
       "      <th>3</th>\n",
       "      <td>4</td>\n",
       "      <td>Metropolis (1927)</td>\n",
       "      <td>99</td>\n",
       "      <td>118</td>\n",
       "      <td>action|adventure</td>\n",
       "    </tr>\n",
       "    <tr>\n",
       "      <th>4</th>\n",
       "      <td>5</td>\n",
       "      <td>Coco (2017)</td>\n",
       "      <td>97</td>\n",
       "      <td>308</td>\n",
       "      <td>action|adventure</td>\n",
       "    </tr>\n",
       "    <tr>\n",
       "      <th>5</th>\n",
       "      <td>6</td>\n",
       "      <td>Dunkirk (2017)</td>\n",
       "      <td>92</td>\n",
       "      <td>413</td>\n",
       "      <td>action|adventure</td>\n",
       "    </tr>\n",
       "    <tr>\n",
       "      <th>6</th>\n",
       "      <td>7</td>\n",
       "      <td>Incredibles 2 (2018)</td>\n",
       "      <td>94</td>\n",
       "      <td>332</td>\n",
       "      <td>action|adventure</td>\n",
       "    </tr>\n",
       "    <tr>\n",
       "      <th>7</th>\n",
       "      <td>8</td>\n",
       "      <td>Star Wars: The Last Jedi (2017)</td>\n",
       "      <td>91</td>\n",
       "      <td>419</td>\n",
       "      <td>action|adventure</td>\n",
       "    </tr>\n",
       "    <tr>\n",
       "      <th>8</th>\n",
       "      <td>9</td>\n",
       "      <td>Logan (2017)</td>\n",
       "      <td>93</td>\n",
       "      <td>371</td>\n",
       "      <td>action|adventure</td>\n",
       "    </tr>\n",
       "    <tr>\n",
       "      <th>9</th>\n",
       "      <td>10</td>\n",
       "      <td>Star Wars: Episode VII - The Force Awakens (2015)</td>\n",
       "      <td>93</td>\n",
       "      <td>402</td>\n",
       "      <td>action|adventure</td>\n",
       "    </tr>\n",
       "  </tbody>\n",
       "</table>\n",
       "</div>"
      ],
      "text/plain": [
       "       Rank                                              Title  \\\n",
       "index                                                            \n",
       "0         1                               Black Panther (2018)   \n",
       "1         2                          Mad Max: Fury Road (2015)   \n",
       "2         3                                Wonder Woman (2017)   \n",
       "3         4                                  Metropolis (1927)   \n",
       "4         5                                        Coco (2017)   \n",
       "5         6                                     Dunkirk (2017)   \n",
       "6         7                               Incredibles 2 (2018)   \n",
       "7         8                    Star Wars: The Last Jedi (2017)   \n",
       "8         9                                       Logan (2017)   \n",
       "9        10  Star Wars: Episode VII - The Force Awakens (2015)   \n",
       "\n",
       "       RatingTomatometer  No. of Reviews            Genres  \n",
       "index                                                       \n",
       "0                     97             444  action|adventure  \n",
       "1                     97             394  action|adventure  \n",
       "2                     93             410  action|adventure  \n",
       "3                     99             118  action|adventure  \n",
       "4                     97             308  action|adventure  \n",
       "5                     92             413  action|adventure  \n",
       "6                     94             332  action|adventure  \n",
       "7                     91             419  action|adventure  \n",
       "8                     93             371  action|adventure  \n",
       "9                     93             402  action|adventure  "
      ]
     },
     "execution_count": 102,
     "metadata": {},
     "output_type": "execute_result"
    }
   ],
   "source": [
    "#Load the Rotten Tomatoes data into a pandas dataframe\n",
    "tomatoes = pd.read_csv('RottenTomatoes/rotten_tomatoes_top_movies_2019-01-15.csv',\n",
    "                       dtype={'Rank':'Int64',\n",
    "                             'Title':'string',\n",
    "                             'RatingTomatometer':'Int64',\n",
    "                             'No. of Reviews':'Int64',\n",
    "                             'Genres':'string'},\n",
    "                       index_col='index')\n",
    "\n",
    "#show the dataframe\n",
    "tomatoes.head(10)"
   ]
  },
  {
   "cell_type": "markdown",
   "metadata": {
    "id": "hoUjq1tPzz7P"
   },
   "source": [
    "#### Dataset 2: IMDB\n",
    "\n",
    "I selected this dataset as it contains the budget and gross revenue for the movies.\n",
    "\n",
    "Type: CSV file\n",
    "\n",
    "Method: API method from Kaggle\n",
    "\n",
    "Dataset variables:\n",
    "\n",
    "*   color: If the movie is in color or black and white\n",
    "*   director_name: Name of the director of the movie\n",
    "*   num_critic_for_reviews: Number of critics for the review\n",
    "*   duration: Duration of the movie\n",
    "*   director_facebook_likes: Number of likes the director has on Facebook\n",
    "*   actor_3_facebook_likes: Number of likes the third listed actor has on Facebook\n",
    "*   actor_2_name: Name of the second listed actor\n",
    "*   actor_1_facebook_likes: Number of likes the first listed actor has on Facebook\n",
    "*   gross: Gross revenue the movie made\n",
    "*   genres: Genres of the movie\n",
    "*   actor_1_name: Name of the first listed actor\n",
    "*   movie_title: Tite of the movie\n",
    "*   num_voted_users: Number of users that voted\n",
    "*   cast_total_facebook_likes: Total number of likes the cast has on Facebook\n",
    "*   actor_3_name: Name of the third listed actor\n",
    "*   facenumber_in_poster: Number of faces in the movies poster\n",
    "*   plot_keywords: Keywords to describe the plot of the movie\n",
    "*   movie_imdb_link: link to the movie's page on IMDB\n",
    "*   num_user_for_reviews: Number of users that reviewed the movie\n",
    "*   lanuage: Language movie is in\n",
    "*   country: Country move was produced in\n",
    "*   content_rating: Rating of the movie\n",
    "*   budget: Movie's budget\n",
    "*   title_year: Release year of movie\n",
    "*   actor_2_facebook_likes: Number of likes the second listed actor has on Facebook\n",
    "*   imdb_score: Score on IMDB\n",
    "*   aspect_ratio: Aspect ratio of the movie\n",
    "*   movie_facebook_likes: Likes the movie has on Facebook "
   ]
  },
  {
   "cell_type": "code",
   "execution_count": 103,
   "metadata": {},
   "outputs": [],
   "source": [
    "#create a new folder for the imdb dataset\n",
    "if not os.path.exists('imdb'):\n",
    "    os.makedirs('imdb')"
   ]
  },
  {
   "cell_type": "code",
   "execution_count": 104,
   "metadata": {},
   "outputs": [
    {
     "name": "stdout",
     "output_type": "stream",
     "text": [
      "Dataset URL: https://www.kaggle.com/datasets/carolzhangdc/imdb-5000-movie-dataset\n"
     ]
    },
    {
     "data": {
      "text/html": [
       "<div>\n",
       "<style scoped>\n",
       "    .dataframe tbody tr th:only-of-type {\n",
       "        vertical-align: middle;\n",
       "    }\n",
       "\n",
       "    .dataframe tbody tr th {\n",
       "        vertical-align: top;\n",
       "    }\n",
       "\n",
       "    .dataframe thead th {\n",
       "        text-align: right;\n",
       "    }\n",
       "</style>\n",
       "<table border=\"1\" class=\"dataframe\">\n",
       "  <thead>\n",
       "    <tr style=\"text-align: right;\">\n",
       "      <th></th>\n",
       "      <th>color</th>\n",
       "      <th>director_name</th>\n",
       "      <th>num_critic_for_reviews</th>\n",
       "      <th>duration</th>\n",
       "      <th>director_facebook_likes</th>\n",
       "      <th>actor_3_facebook_likes</th>\n",
       "      <th>actor_2_name</th>\n",
       "      <th>actor_1_facebook_likes</th>\n",
       "      <th>gross</th>\n",
       "      <th>genres</th>\n",
       "      <th>...</th>\n",
       "      <th>num_user_for_reviews</th>\n",
       "      <th>language</th>\n",
       "      <th>country</th>\n",
       "      <th>content_rating</th>\n",
       "      <th>budget</th>\n",
       "      <th>title_year</th>\n",
       "      <th>actor_2_facebook_likes</th>\n",
       "      <th>imdb_score</th>\n",
       "      <th>aspect_ratio</th>\n",
       "      <th>movie_facebook_likes</th>\n",
       "    </tr>\n",
       "  </thead>\n",
       "  <tbody>\n",
       "    <tr>\n",
       "      <th>0</th>\n",
       "      <td>Color</td>\n",
       "      <td>James Cameron</td>\n",
       "      <td>723</td>\n",
       "      <td>178</td>\n",
       "      <td>0</td>\n",
       "      <td>855</td>\n",
       "      <td>Joel David Moore</td>\n",
       "      <td>1000</td>\n",
       "      <td>760505847.0</td>\n",
       "      <td>Action|Adventure|Fantasy|Sci-Fi</td>\n",
       "      <td>...</td>\n",
       "      <td>3054</td>\n",
       "      <td>English</td>\n",
       "      <td>USA</td>\n",
       "      <td>PG-13</td>\n",
       "      <td>237000000.0</td>\n",
       "      <td>2009</td>\n",
       "      <td>936</td>\n",
       "      <td>7.9</td>\n",
       "      <td>1.78</td>\n",
       "      <td>33000</td>\n",
       "    </tr>\n",
       "    <tr>\n",
       "      <th>1</th>\n",
       "      <td>Color</td>\n",
       "      <td>Gore Verbinski</td>\n",
       "      <td>302</td>\n",
       "      <td>169</td>\n",
       "      <td>563</td>\n",
       "      <td>1000</td>\n",
       "      <td>Orlando Bloom</td>\n",
       "      <td>40000</td>\n",
       "      <td>309404152.0</td>\n",
       "      <td>Action|Adventure|Fantasy</td>\n",
       "      <td>...</td>\n",
       "      <td>1238</td>\n",
       "      <td>English</td>\n",
       "      <td>USA</td>\n",
       "      <td>PG-13</td>\n",
       "      <td>300000000.0</td>\n",
       "      <td>2007</td>\n",
       "      <td>5000</td>\n",
       "      <td>7.1</td>\n",
       "      <td>2.35</td>\n",
       "      <td>0</td>\n",
       "    </tr>\n",
       "    <tr>\n",
       "      <th>2</th>\n",
       "      <td>Color</td>\n",
       "      <td>Sam Mendes</td>\n",
       "      <td>602</td>\n",
       "      <td>148</td>\n",
       "      <td>0</td>\n",
       "      <td>161</td>\n",
       "      <td>Rory Kinnear</td>\n",
       "      <td>11000</td>\n",
       "      <td>200074175.0</td>\n",
       "      <td>Action|Adventure|Thriller</td>\n",
       "      <td>...</td>\n",
       "      <td>994</td>\n",
       "      <td>English</td>\n",
       "      <td>UK</td>\n",
       "      <td>PG-13</td>\n",
       "      <td>245000000.0</td>\n",
       "      <td>2015</td>\n",
       "      <td>393</td>\n",
       "      <td>6.8</td>\n",
       "      <td>2.35</td>\n",
       "      <td>85000</td>\n",
       "    </tr>\n",
       "    <tr>\n",
       "      <th>3</th>\n",
       "      <td>Color</td>\n",
       "      <td>Christopher Nolan</td>\n",
       "      <td>813</td>\n",
       "      <td>164</td>\n",
       "      <td>22000</td>\n",
       "      <td>23000</td>\n",
       "      <td>Christian Bale</td>\n",
       "      <td>27000</td>\n",
       "      <td>448130642.0</td>\n",
       "      <td>Action|Thriller</td>\n",
       "      <td>...</td>\n",
       "      <td>2701</td>\n",
       "      <td>English</td>\n",
       "      <td>USA</td>\n",
       "      <td>PG-13</td>\n",
       "      <td>250000000.0</td>\n",
       "      <td>2012</td>\n",
       "      <td>23000</td>\n",
       "      <td>8.5</td>\n",
       "      <td>2.35</td>\n",
       "      <td>164000</td>\n",
       "    </tr>\n",
       "    <tr>\n",
       "      <th>4</th>\n",
       "      <td>&lt;NA&gt;</td>\n",
       "      <td>Doug Walker</td>\n",
       "      <td>&lt;NA&gt;</td>\n",
       "      <td>&lt;NA&gt;</td>\n",
       "      <td>131</td>\n",
       "      <td>&lt;NA&gt;</td>\n",
       "      <td>Rob Walker</td>\n",
       "      <td>131</td>\n",
       "      <td>NaN</td>\n",
       "      <td>Documentary</td>\n",
       "      <td>...</td>\n",
       "      <td>&lt;NA&gt;</td>\n",
       "      <td>&lt;NA&gt;</td>\n",
       "      <td>&lt;NA&gt;</td>\n",
       "      <td>&lt;NA&gt;</td>\n",
       "      <td>NaN</td>\n",
       "      <td>&lt;NA&gt;</td>\n",
       "      <td>12</td>\n",
       "      <td>7.1</td>\n",
       "      <td>NaN</td>\n",
       "      <td>0</td>\n",
       "    </tr>\n",
       "    <tr>\n",
       "      <th>5</th>\n",
       "      <td>Color</td>\n",
       "      <td>Andrew Stanton</td>\n",
       "      <td>462</td>\n",
       "      <td>132</td>\n",
       "      <td>475</td>\n",
       "      <td>530</td>\n",
       "      <td>Samantha Morton</td>\n",
       "      <td>640</td>\n",
       "      <td>73058679.0</td>\n",
       "      <td>Action|Adventure|Sci-Fi</td>\n",
       "      <td>...</td>\n",
       "      <td>738</td>\n",
       "      <td>English</td>\n",
       "      <td>USA</td>\n",
       "      <td>PG-13</td>\n",
       "      <td>263700000.0</td>\n",
       "      <td>2012</td>\n",
       "      <td>632</td>\n",
       "      <td>6.6</td>\n",
       "      <td>2.35</td>\n",
       "      <td>24000</td>\n",
       "    </tr>\n",
       "    <tr>\n",
       "      <th>6</th>\n",
       "      <td>Color</td>\n",
       "      <td>Sam Raimi</td>\n",
       "      <td>392</td>\n",
       "      <td>156</td>\n",
       "      <td>0</td>\n",
       "      <td>4000</td>\n",
       "      <td>James Franco</td>\n",
       "      <td>24000</td>\n",
       "      <td>336530303.0</td>\n",
       "      <td>Action|Adventure|Romance</td>\n",
       "      <td>...</td>\n",
       "      <td>1902</td>\n",
       "      <td>English</td>\n",
       "      <td>USA</td>\n",
       "      <td>PG-13</td>\n",
       "      <td>258000000.0</td>\n",
       "      <td>2007</td>\n",
       "      <td>11000</td>\n",
       "      <td>6.2</td>\n",
       "      <td>2.35</td>\n",
       "      <td>0</td>\n",
       "    </tr>\n",
       "    <tr>\n",
       "      <th>7</th>\n",
       "      <td>Color</td>\n",
       "      <td>Nathan Greno</td>\n",
       "      <td>324</td>\n",
       "      <td>100</td>\n",
       "      <td>15</td>\n",
       "      <td>284</td>\n",
       "      <td>Donna Murphy</td>\n",
       "      <td>799</td>\n",
       "      <td>200807262.0</td>\n",
       "      <td>Adventure|Animation|Comedy|Family|Fantasy|Musi...</td>\n",
       "      <td>...</td>\n",
       "      <td>387</td>\n",
       "      <td>English</td>\n",
       "      <td>USA</td>\n",
       "      <td>PG</td>\n",
       "      <td>260000000.0</td>\n",
       "      <td>2010</td>\n",
       "      <td>553</td>\n",
       "      <td>7.8</td>\n",
       "      <td>1.85</td>\n",
       "      <td>29000</td>\n",
       "    </tr>\n",
       "    <tr>\n",
       "      <th>8</th>\n",
       "      <td>Color</td>\n",
       "      <td>Joss Whedon</td>\n",
       "      <td>635</td>\n",
       "      <td>141</td>\n",
       "      <td>0</td>\n",
       "      <td>19000</td>\n",
       "      <td>Robert Downey Jr.</td>\n",
       "      <td>26000</td>\n",
       "      <td>458991599.0</td>\n",
       "      <td>Action|Adventure|Sci-Fi</td>\n",
       "      <td>...</td>\n",
       "      <td>1117</td>\n",
       "      <td>English</td>\n",
       "      <td>USA</td>\n",
       "      <td>PG-13</td>\n",
       "      <td>250000000.0</td>\n",
       "      <td>2015</td>\n",
       "      <td>21000</td>\n",
       "      <td>7.5</td>\n",
       "      <td>2.35</td>\n",
       "      <td>118000</td>\n",
       "    </tr>\n",
       "    <tr>\n",
       "      <th>9</th>\n",
       "      <td>Color</td>\n",
       "      <td>David Yates</td>\n",
       "      <td>375</td>\n",
       "      <td>153</td>\n",
       "      <td>282</td>\n",
       "      <td>10000</td>\n",
       "      <td>Daniel Radcliffe</td>\n",
       "      <td>25000</td>\n",
       "      <td>301956980.0</td>\n",
       "      <td>Adventure|Family|Fantasy|Mystery</td>\n",
       "      <td>...</td>\n",
       "      <td>973</td>\n",
       "      <td>English</td>\n",
       "      <td>UK</td>\n",
       "      <td>PG</td>\n",
       "      <td>250000000.0</td>\n",
       "      <td>2009</td>\n",
       "      <td>11000</td>\n",
       "      <td>7.5</td>\n",
       "      <td>2.35</td>\n",
       "      <td>10000</td>\n",
       "    </tr>\n",
       "  </tbody>\n",
       "</table>\n",
       "<p>10 rows × 28 columns</p>\n",
       "</div>"
      ],
      "text/plain": [
       "   color      director_name  num_critic_for_reviews  duration  \\\n",
       "0  Color      James Cameron                     723       178   \n",
       "1  Color     Gore Verbinski                     302       169   \n",
       "2  Color         Sam Mendes                     602       148   \n",
       "3  Color  Christopher Nolan                     813       164   \n",
       "4   <NA>        Doug Walker                    <NA>      <NA>   \n",
       "5  Color     Andrew Stanton                     462       132   \n",
       "6  Color          Sam Raimi                     392       156   \n",
       "7  Color       Nathan Greno                     324       100   \n",
       "8  Color        Joss Whedon                     635       141   \n",
       "9  Color        David Yates                     375       153   \n",
       "\n",
       "   director_facebook_likes  actor_3_facebook_likes       actor_2_name  \\\n",
       "0                        0                     855   Joel David Moore   \n",
       "1                      563                    1000      Orlando Bloom   \n",
       "2                        0                     161       Rory Kinnear   \n",
       "3                    22000                   23000     Christian Bale   \n",
       "4                      131                    <NA>         Rob Walker   \n",
       "5                      475                     530    Samantha Morton   \n",
       "6                        0                    4000       James Franco   \n",
       "7                       15                     284       Donna Murphy   \n",
       "8                        0                   19000  Robert Downey Jr.   \n",
       "9                      282                   10000   Daniel Radcliffe   \n",
       "\n",
       "   actor_1_facebook_likes        gross  \\\n",
       "0                    1000  760505847.0   \n",
       "1                   40000  309404152.0   \n",
       "2                   11000  200074175.0   \n",
       "3                   27000  448130642.0   \n",
       "4                     131          NaN   \n",
       "5                     640   73058679.0   \n",
       "6                   24000  336530303.0   \n",
       "7                     799  200807262.0   \n",
       "8                   26000  458991599.0   \n",
       "9                   25000  301956980.0   \n",
       "\n",
       "                                              genres  ...  \\\n",
       "0                    Action|Adventure|Fantasy|Sci-Fi  ...   \n",
       "1                           Action|Adventure|Fantasy  ...   \n",
       "2                          Action|Adventure|Thriller  ...   \n",
       "3                                    Action|Thriller  ...   \n",
       "4                                        Documentary  ...   \n",
       "5                            Action|Adventure|Sci-Fi  ...   \n",
       "6                           Action|Adventure|Romance  ...   \n",
       "7  Adventure|Animation|Comedy|Family|Fantasy|Musi...  ...   \n",
       "8                            Action|Adventure|Sci-Fi  ...   \n",
       "9                   Adventure|Family|Fantasy|Mystery  ...   \n",
       "\n",
       "  num_user_for_reviews language  country  content_rating       budget  \\\n",
       "0                 3054  English      USA           PG-13  237000000.0   \n",
       "1                 1238  English      USA           PG-13  300000000.0   \n",
       "2                  994  English       UK           PG-13  245000000.0   \n",
       "3                 2701  English      USA           PG-13  250000000.0   \n",
       "4                 <NA>     <NA>     <NA>            <NA>          NaN   \n",
       "5                  738  English      USA           PG-13  263700000.0   \n",
       "6                 1902  English      USA           PG-13  258000000.0   \n",
       "7                  387  English      USA              PG  260000000.0   \n",
       "8                 1117  English      USA           PG-13  250000000.0   \n",
       "9                  973  English       UK              PG  250000000.0   \n",
       "\n",
       "   title_year actor_2_facebook_likes imdb_score  aspect_ratio  \\\n",
       "0        2009                    936        7.9          1.78   \n",
       "1        2007                   5000        7.1          2.35   \n",
       "2        2015                    393        6.8          2.35   \n",
       "3        2012                  23000        8.5          2.35   \n",
       "4        <NA>                     12        7.1           NaN   \n",
       "5        2012                    632        6.6          2.35   \n",
       "6        2007                  11000        6.2          2.35   \n",
       "7        2010                    553        7.8          1.85   \n",
       "8        2015                  21000        7.5          2.35   \n",
       "9        2009                  11000        7.5          2.35   \n",
       "\n",
       "  movie_facebook_likes  \n",
       "0                33000  \n",
       "1                    0  \n",
       "2                85000  \n",
       "3               164000  \n",
       "4                    0  \n",
       "5                24000  \n",
       "6                    0  \n",
       "7                29000  \n",
       "8               118000  \n",
       "9                10000  \n",
       "\n",
       "[10 rows x 28 columns]"
      ]
     },
     "execution_count": 104,
     "metadata": {},
     "output_type": "execute_result"
    }
   ],
   "source": [
    "# Download imdb dataset from https://www.kaggle.com/datasets/carolzhangdc/imdb-5000-movie-dataset\n",
    "kaggle.api.dataset_download_files('carolzhangdc/imdb-5000-movie-dataset', path='imdb', unzip=True)\n",
    "# Load the IMDB data into a pandas dataframe\n",
    "imdb = pd.read_csv('imdb/movie_metadata.csv',\n",
    "                     dtype={'color':'string',\n",
    "                            'director_name':'string',\n",
    "                            'num_critic_for_reviews':'Int64',\n",
    "                            'duration':'Int64',\n",
    "                            'director_facebook_likes':'Int64',\n",
    "                            'actor_3_facebook_likes':'Int64',\n",
    "                            'actor_2_name':'string',\n",
    "                            'actor_1_facebook_likes':'Int64',\n",
    "                            'gross':'float',\n",
    "                            'genres':'string',\n",
    "                            'actor_1_name':'string',\n",
    "                            'movie_title':'string',\n",
    "                            'num_voted_users':'Int64',\n",
    "                            'cast_total_facebook_likes':'Int64',\n",
    "                            'actor_3_name':'string',\n",
    "                            'facenumber_in_poster':'Int64',\n",
    "                            'plot_keywords':'string',\n",
    "                            'movie_imdb_link':'string',\n",
    "                            'num_user_for_reviews':'Int64',\n",
    "                            'language':'string',\n",
    "                            'country':'string',\n",
    "                            'content_rating':'string', \n",
    "                            'budget':'float',\n",
    "                            'title_year':'Int64',\n",
    "                            'actor_2_facebook_likes':'Int64',\n",
    "                            'imdb_score':'float',\n",
    "                            'aspect_ratio':'float',\n",
    "                            'movie_facebook_likes':'Int64'})\n",
    "\n",
    "#show the dataframe\n",
    "imdb.head(10)\n"
   ]
  },
  {
   "cell_type": "markdown",
   "metadata": {
    "id": "QwSWIVmotLgV"
   },
   "source": [
    "## 2. Assess data\n",
    "\n",
    "Assess the data according to data quality and tidiness metrics using the report below.\n",
    "\n",
    "List **two** data quality issues and **two** tidiness issues. Assess each data issue visually **and** programmatically, then briefly describe the issue you find.  **Make sure you include justifications for the methods you use for the assessment.**"
   ]
  },
  {
   "cell_type": "markdown",
   "metadata": {
    "id": "adaK2iPNzVu4"
   },
   "source": [
    "### Quality Issue 1:"
   ]
  },
  {
   "cell_type": "code",
   "execution_count": 105,
   "metadata": {
    "id": "SpW59kh-zl8d"
   },
   "outputs": [
    {
     "data": {
      "text/html": [
       "<div>\n",
       "<style scoped>\n",
       "    .dataframe tbody tr th:only-of-type {\n",
       "        vertical-align: middle;\n",
       "    }\n",
       "\n",
       "    .dataframe tbody tr th {\n",
       "        vertical-align: top;\n",
       "    }\n",
       "\n",
       "    .dataframe thead th {\n",
       "        text-align: right;\n",
       "    }\n",
       "</style>\n",
       "<table border=\"1\" class=\"dataframe\">\n",
       "  <thead>\n",
       "    <tr style=\"text-align: right;\">\n",
       "      <th></th>\n",
       "      <th>color</th>\n",
       "      <th>director_name</th>\n",
       "      <th>num_critic_for_reviews</th>\n",
       "      <th>duration</th>\n",
       "      <th>director_facebook_likes</th>\n",
       "      <th>actor_3_facebook_likes</th>\n",
       "      <th>actor_2_name</th>\n",
       "      <th>actor_1_facebook_likes</th>\n",
       "      <th>gross</th>\n",
       "      <th>genres</th>\n",
       "      <th>...</th>\n",
       "      <th>num_user_for_reviews</th>\n",
       "      <th>language</th>\n",
       "      <th>country</th>\n",
       "      <th>content_rating</th>\n",
       "      <th>budget</th>\n",
       "      <th>title_year</th>\n",
       "      <th>actor_2_facebook_likes</th>\n",
       "      <th>imdb_score</th>\n",
       "      <th>aspect_ratio</th>\n",
       "      <th>movie_facebook_likes</th>\n",
       "    </tr>\n",
       "  </thead>\n",
       "  <tbody>\n",
       "    <tr>\n",
       "      <th>0</th>\n",
       "      <td>Color</td>\n",
       "      <td>James Cameron</td>\n",
       "      <td>723</td>\n",
       "      <td>178</td>\n",
       "      <td>0</td>\n",
       "      <td>855</td>\n",
       "      <td>Joel David Moore</td>\n",
       "      <td>1000</td>\n",
       "      <td>760505847.0</td>\n",
       "      <td>Action|Adventure|Fantasy|Sci-Fi</td>\n",
       "      <td>...</td>\n",
       "      <td>3054</td>\n",
       "      <td>English</td>\n",
       "      <td>USA</td>\n",
       "      <td>PG-13</td>\n",
       "      <td>237000000.0</td>\n",
       "      <td>2009</td>\n",
       "      <td>936</td>\n",
       "      <td>7.9</td>\n",
       "      <td>1.78</td>\n",
       "      <td>33000</td>\n",
       "    </tr>\n",
       "    <tr>\n",
       "      <th>1</th>\n",
       "      <td>Color</td>\n",
       "      <td>Gore Verbinski</td>\n",
       "      <td>302</td>\n",
       "      <td>169</td>\n",
       "      <td>563</td>\n",
       "      <td>1000</td>\n",
       "      <td>Orlando Bloom</td>\n",
       "      <td>40000</td>\n",
       "      <td>309404152.0</td>\n",
       "      <td>Action|Adventure|Fantasy</td>\n",
       "      <td>...</td>\n",
       "      <td>1238</td>\n",
       "      <td>English</td>\n",
       "      <td>USA</td>\n",
       "      <td>PG-13</td>\n",
       "      <td>300000000.0</td>\n",
       "      <td>2007</td>\n",
       "      <td>5000</td>\n",
       "      <td>7.1</td>\n",
       "      <td>2.35</td>\n",
       "      <td>0</td>\n",
       "    </tr>\n",
       "    <tr>\n",
       "      <th>2</th>\n",
       "      <td>Color</td>\n",
       "      <td>Sam Mendes</td>\n",
       "      <td>602</td>\n",
       "      <td>148</td>\n",
       "      <td>0</td>\n",
       "      <td>161</td>\n",
       "      <td>Rory Kinnear</td>\n",
       "      <td>11000</td>\n",
       "      <td>200074175.0</td>\n",
       "      <td>Action|Adventure|Thriller</td>\n",
       "      <td>...</td>\n",
       "      <td>994</td>\n",
       "      <td>English</td>\n",
       "      <td>UK</td>\n",
       "      <td>PG-13</td>\n",
       "      <td>245000000.0</td>\n",
       "      <td>2015</td>\n",
       "      <td>393</td>\n",
       "      <td>6.8</td>\n",
       "      <td>2.35</td>\n",
       "      <td>85000</td>\n",
       "    </tr>\n",
       "    <tr>\n",
       "      <th>3</th>\n",
       "      <td>Color</td>\n",
       "      <td>Christopher Nolan</td>\n",
       "      <td>813</td>\n",
       "      <td>164</td>\n",
       "      <td>22000</td>\n",
       "      <td>23000</td>\n",
       "      <td>Christian Bale</td>\n",
       "      <td>27000</td>\n",
       "      <td>448130642.0</td>\n",
       "      <td>Action|Thriller</td>\n",
       "      <td>...</td>\n",
       "      <td>2701</td>\n",
       "      <td>English</td>\n",
       "      <td>USA</td>\n",
       "      <td>PG-13</td>\n",
       "      <td>250000000.0</td>\n",
       "      <td>2012</td>\n",
       "      <td>23000</td>\n",
       "      <td>8.5</td>\n",
       "      <td>2.35</td>\n",
       "      <td>164000</td>\n",
       "    </tr>\n",
       "    <tr>\n",
       "      <th>4</th>\n",
       "      <td>&lt;NA&gt;</td>\n",
       "      <td>Doug Walker</td>\n",
       "      <td>&lt;NA&gt;</td>\n",
       "      <td>&lt;NA&gt;</td>\n",
       "      <td>131</td>\n",
       "      <td>&lt;NA&gt;</td>\n",
       "      <td>Rob Walker</td>\n",
       "      <td>131</td>\n",
       "      <td>NaN</td>\n",
       "      <td>Documentary</td>\n",
       "      <td>...</td>\n",
       "      <td>&lt;NA&gt;</td>\n",
       "      <td>&lt;NA&gt;</td>\n",
       "      <td>&lt;NA&gt;</td>\n",
       "      <td>&lt;NA&gt;</td>\n",
       "      <td>NaN</td>\n",
       "      <td>&lt;NA&gt;</td>\n",
       "      <td>12</td>\n",
       "      <td>7.1</td>\n",
       "      <td>NaN</td>\n",
       "      <td>0</td>\n",
       "    </tr>\n",
       "    <tr>\n",
       "      <th>5</th>\n",
       "      <td>Color</td>\n",
       "      <td>Andrew Stanton</td>\n",
       "      <td>462</td>\n",
       "      <td>132</td>\n",
       "      <td>475</td>\n",
       "      <td>530</td>\n",
       "      <td>Samantha Morton</td>\n",
       "      <td>640</td>\n",
       "      <td>73058679.0</td>\n",
       "      <td>Action|Adventure|Sci-Fi</td>\n",
       "      <td>...</td>\n",
       "      <td>738</td>\n",
       "      <td>English</td>\n",
       "      <td>USA</td>\n",
       "      <td>PG-13</td>\n",
       "      <td>263700000.0</td>\n",
       "      <td>2012</td>\n",
       "      <td>632</td>\n",
       "      <td>6.6</td>\n",
       "      <td>2.35</td>\n",
       "      <td>24000</td>\n",
       "    </tr>\n",
       "    <tr>\n",
       "      <th>6</th>\n",
       "      <td>Color</td>\n",
       "      <td>Sam Raimi</td>\n",
       "      <td>392</td>\n",
       "      <td>156</td>\n",
       "      <td>0</td>\n",
       "      <td>4000</td>\n",
       "      <td>James Franco</td>\n",
       "      <td>24000</td>\n",
       "      <td>336530303.0</td>\n",
       "      <td>Action|Adventure|Romance</td>\n",
       "      <td>...</td>\n",
       "      <td>1902</td>\n",
       "      <td>English</td>\n",
       "      <td>USA</td>\n",
       "      <td>PG-13</td>\n",
       "      <td>258000000.0</td>\n",
       "      <td>2007</td>\n",
       "      <td>11000</td>\n",
       "      <td>6.2</td>\n",
       "      <td>2.35</td>\n",
       "      <td>0</td>\n",
       "    </tr>\n",
       "    <tr>\n",
       "      <th>7</th>\n",
       "      <td>Color</td>\n",
       "      <td>Nathan Greno</td>\n",
       "      <td>324</td>\n",
       "      <td>100</td>\n",
       "      <td>15</td>\n",
       "      <td>284</td>\n",
       "      <td>Donna Murphy</td>\n",
       "      <td>799</td>\n",
       "      <td>200807262.0</td>\n",
       "      <td>Adventure|Animation|Comedy|Family|Fantasy|Musi...</td>\n",
       "      <td>...</td>\n",
       "      <td>387</td>\n",
       "      <td>English</td>\n",
       "      <td>USA</td>\n",
       "      <td>PG</td>\n",
       "      <td>260000000.0</td>\n",
       "      <td>2010</td>\n",
       "      <td>553</td>\n",
       "      <td>7.8</td>\n",
       "      <td>1.85</td>\n",
       "      <td>29000</td>\n",
       "    </tr>\n",
       "    <tr>\n",
       "      <th>8</th>\n",
       "      <td>Color</td>\n",
       "      <td>Joss Whedon</td>\n",
       "      <td>635</td>\n",
       "      <td>141</td>\n",
       "      <td>0</td>\n",
       "      <td>19000</td>\n",
       "      <td>Robert Downey Jr.</td>\n",
       "      <td>26000</td>\n",
       "      <td>458991599.0</td>\n",
       "      <td>Action|Adventure|Sci-Fi</td>\n",
       "      <td>...</td>\n",
       "      <td>1117</td>\n",
       "      <td>English</td>\n",
       "      <td>USA</td>\n",
       "      <td>PG-13</td>\n",
       "      <td>250000000.0</td>\n",
       "      <td>2015</td>\n",
       "      <td>21000</td>\n",
       "      <td>7.5</td>\n",
       "      <td>2.35</td>\n",
       "      <td>118000</td>\n",
       "    </tr>\n",
       "    <tr>\n",
       "      <th>9</th>\n",
       "      <td>Color</td>\n",
       "      <td>David Yates</td>\n",
       "      <td>375</td>\n",
       "      <td>153</td>\n",
       "      <td>282</td>\n",
       "      <td>10000</td>\n",
       "      <td>Daniel Radcliffe</td>\n",
       "      <td>25000</td>\n",
       "      <td>301956980.0</td>\n",
       "      <td>Adventure|Family|Fantasy|Mystery</td>\n",
       "      <td>...</td>\n",
       "      <td>973</td>\n",
       "      <td>English</td>\n",
       "      <td>UK</td>\n",
       "      <td>PG</td>\n",
       "      <td>250000000.0</td>\n",
       "      <td>2009</td>\n",
       "      <td>11000</td>\n",
       "      <td>7.5</td>\n",
       "      <td>2.35</td>\n",
       "      <td>10000</td>\n",
       "    </tr>\n",
       "  </tbody>\n",
       "</table>\n",
       "<p>10 rows × 28 columns</p>\n",
       "</div>"
      ],
      "text/plain": [
       "   color      director_name  num_critic_for_reviews  duration  \\\n",
       "0  Color      James Cameron                     723       178   \n",
       "1  Color     Gore Verbinski                     302       169   \n",
       "2  Color         Sam Mendes                     602       148   \n",
       "3  Color  Christopher Nolan                     813       164   \n",
       "4   <NA>        Doug Walker                    <NA>      <NA>   \n",
       "5  Color     Andrew Stanton                     462       132   \n",
       "6  Color          Sam Raimi                     392       156   \n",
       "7  Color       Nathan Greno                     324       100   \n",
       "8  Color        Joss Whedon                     635       141   \n",
       "9  Color        David Yates                     375       153   \n",
       "\n",
       "   director_facebook_likes  actor_3_facebook_likes       actor_2_name  \\\n",
       "0                        0                     855   Joel David Moore   \n",
       "1                      563                    1000      Orlando Bloom   \n",
       "2                        0                     161       Rory Kinnear   \n",
       "3                    22000                   23000     Christian Bale   \n",
       "4                      131                    <NA>         Rob Walker   \n",
       "5                      475                     530    Samantha Morton   \n",
       "6                        0                    4000       James Franco   \n",
       "7                       15                     284       Donna Murphy   \n",
       "8                        0                   19000  Robert Downey Jr.   \n",
       "9                      282                   10000   Daniel Radcliffe   \n",
       "\n",
       "   actor_1_facebook_likes        gross  \\\n",
       "0                    1000  760505847.0   \n",
       "1                   40000  309404152.0   \n",
       "2                   11000  200074175.0   \n",
       "3                   27000  448130642.0   \n",
       "4                     131          NaN   \n",
       "5                     640   73058679.0   \n",
       "6                   24000  336530303.0   \n",
       "7                     799  200807262.0   \n",
       "8                   26000  458991599.0   \n",
       "9                   25000  301956980.0   \n",
       "\n",
       "                                              genres  ...  \\\n",
       "0                    Action|Adventure|Fantasy|Sci-Fi  ...   \n",
       "1                           Action|Adventure|Fantasy  ...   \n",
       "2                          Action|Adventure|Thriller  ...   \n",
       "3                                    Action|Thriller  ...   \n",
       "4                                        Documentary  ...   \n",
       "5                            Action|Adventure|Sci-Fi  ...   \n",
       "6                           Action|Adventure|Romance  ...   \n",
       "7  Adventure|Animation|Comedy|Family|Fantasy|Musi...  ...   \n",
       "8                            Action|Adventure|Sci-Fi  ...   \n",
       "9                   Adventure|Family|Fantasy|Mystery  ...   \n",
       "\n",
       "  num_user_for_reviews language  country  content_rating       budget  \\\n",
       "0                 3054  English      USA           PG-13  237000000.0   \n",
       "1                 1238  English      USA           PG-13  300000000.0   \n",
       "2                  994  English       UK           PG-13  245000000.0   \n",
       "3                 2701  English      USA           PG-13  250000000.0   \n",
       "4                 <NA>     <NA>     <NA>            <NA>          NaN   \n",
       "5                  738  English      USA           PG-13  263700000.0   \n",
       "6                 1902  English      USA           PG-13  258000000.0   \n",
       "7                  387  English      USA              PG  260000000.0   \n",
       "8                 1117  English      USA           PG-13  250000000.0   \n",
       "9                  973  English       UK              PG  250000000.0   \n",
       "\n",
       "   title_year actor_2_facebook_likes imdb_score  aspect_ratio  \\\n",
       "0        2009                    936        7.9          1.78   \n",
       "1        2007                   5000        7.1          2.35   \n",
       "2        2015                    393        6.8          2.35   \n",
       "3        2012                  23000        8.5          2.35   \n",
       "4        <NA>                     12        7.1           NaN   \n",
       "5        2012                    632        6.6          2.35   \n",
       "6        2007                  11000        6.2          2.35   \n",
       "7        2010                    553        7.8          1.85   \n",
       "8        2015                  21000        7.5          2.35   \n",
       "9        2009                  11000        7.5          2.35   \n",
       "\n",
       "  movie_facebook_likes  \n",
       "0                33000  \n",
       "1                    0  \n",
       "2                85000  \n",
       "3               164000  \n",
       "4                    0  \n",
       "5                24000  \n",
       "6                    0  \n",
       "7                29000  \n",
       "8               118000  \n",
       "9                10000  \n",
       "\n",
       "[10 rows x 28 columns]"
      ]
     },
     "execution_count": 105,
     "metadata": {},
     "output_type": "execute_result"
    }
   ],
   "source": [
    "#view the first 10 rows of the IMDB dataset\n",
    "imdb.head(10)"
   ]
  },
  {
   "cell_type": "code",
   "execution_count": 106,
   "metadata": {
    "id": "-qfcocStzsKg"
   },
   "outputs": [
    {
     "name": "stdout",
     "output_type": "stream",
     "text": [
      "2700\n"
     ]
    }
   ],
   "source": [
    "#Check the number of NA values in the imdb dataframe\n",
    "print(imdb.isnull().sum().sum())"
   ]
  },
  {
   "cell_type": "markdown",
   "metadata": {},
   "source": [
    "Issue and justification: The IMDB dataset has missing values. This can be seen visually by seeing that the row four has NA values. It is seen programmatically by seeing that there are 2700 NA values in the IMDB dataframe."
   ]
  },
  {
   "cell_type": "markdown",
   "metadata": {
    "id": "8Be77N4I1AmE"
   },
   "source": [
    "### Quality Issue 2:"
   ]
  },
  {
   "cell_type": "code",
   "execution_count": 107,
   "metadata": {
    "id": "iMhHyiyLM2I3"
   },
   "outputs": [
    {
     "name": "stdout",
     "output_type": "stream",
     "text": [
      "0                                              Avatar \n",
      "1            Pirates of the Caribbean: At World's End \n",
      "2                                             Spectre \n",
      "3                               The Dark Knight Rises \n",
      "4    Star Wars: Episode VII - The Force Awakens    ...\n",
      "5                                         John Carter \n",
      "6                                        Spider-Man 3 \n",
      "7                                             Tangled \n",
      "8                             Avengers: Age of Ultron \n",
      "9              Harry Potter and the Half-Blood Prince \n",
      "Name: movie_title, dtype: string\n",
      "index\n",
      "0                                 Black Panther (2018)\n",
      "1                            Mad Max: Fury Road (2015)\n",
      "2                                  Wonder Woman (2017)\n",
      "3                                    Metropolis (1927)\n",
      "4                                          Coco (2017)\n",
      "5                                       Dunkirk (2017)\n",
      "6                                 Incredibles 2 (2018)\n",
      "7                      Star Wars: The Last Jedi (2017)\n",
      "8                                         Logan (2017)\n",
      "9    Star Wars: Episode VII - The Force Awakens (2015)\n",
      "Name: Title, dtype: string\n"
     ]
    }
   ],
   "source": [
    "#Show the unedited title column from the imdb dataframe and the tomatoes dataframe\n",
    "print(imdb['movie_title'].head(10))\n",
    "print(tomatoes['Title'].head(10))"
   ]
  },
  {
   "cell_type": "code",
   "execution_count": 108,
   "metadata": {
    "id": "bnviRCUI-bb7"
   },
   "outputs": [
    {
     "name": "stdout",
     "output_type": "stream",
     "text": [
      "False\n"
     ]
    }
   ],
   "source": [
    "#Check if any titlles in the tomatoes dataframe are in the imdb dataframe\n",
    "print(tomatoes['Title'].isin(imdb['movie_title']).any())"
   ]
  },
  {
   "cell_type": "markdown",
   "metadata": {},
   "source": [
    "Issue and justification: The title columns in the various datasets do not have the same format. This can be seen visually by comparing the titles from the first 10 rows of each data set and seeing that the Rotten Tomatoes dataset is including the years at the end. This is seen programmatically by searching for any titles that are the same in the two datasets and seeing there are no matches."
   ]
  },
  {
   "cell_type": "markdown",
   "metadata": {
    "id": "lXhGiYyiwwKN"
   },
   "source": [
    "### Tidiness Issue 1:"
   ]
  },
  {
   "cell_type": "code",
   "execution_count": 109,
   "metadata": {
    "id": "fleC5rORI0Xl"
   },
   "outputs": [
    {
     "name": "stdout",
     "output_type": "stream",
     "text": [
      "0                      Action|Adventure|Fantasy|Sci-Fi\n",
      "1                             Action|Adventure|Fantasy\n",
      "2                            Action|Adventure|Thriller\n",
      "3                                      Action|Thriller\n",
      "4                                          Documentary\n",
      "5                              Action|Adventure|Sci-Fi\n",
      "6                             Action|Adventure|Romance\n",
      "7    Adventure|Animation|Comedy|Family|Fantasy|Musi...\n",
      "8                              Action|Adventure|Sci-Fi\n",
      "9                     Adventure|Family|Fantasy|Mystery\n",
      "Name: genres, dtype: string\n",
      "index\n",
      "0    action|adventure\n",
      "1    action|adventure\n",
      "2    action|adventure\n",
      "3    action|adventure\n",
      "4    action|adventure\n",
      "5    action|adventure\n",
      "6    action|adventure\n",
      "7    action|adventure\n",
      "8    action|adventure\n",
      "9    action|adventure\n",
      "Name: Genres, dtype: string\n"
     ]
    }
   ],
   "source": [
    "#Show the genres column from the imdb dataframe and the tomatoes dataframe\n",
    "print(imdb['genres'].head(10))\n",
    "print(tomatoes['Genres'].head(10))"
   ]
  },
  {
   "cell_type": "code",
   "execution_count": 110,
   "metadata": {
    "id": "BTuQw7Rbsio4"
   },
   "outputs": [
    {
     "name": "stdout",
     "output_type": "stream",
     "text": [
      "0    4\n",
      "1    3\n",
      "2    3\n",
      "3    2\n",
      "4    1\n",
      "5    3\n",
      "6    3\n",
      "7    7\n",
      "8    3\n",
      "9    4\n",
      "Name: genres, dtype: int64\n",
      "index\n",
      "0    2\n",
      "1    2\n",
      "2    2\n",
      "3    2\n",
      "4    2\n",
      "5    2\n",
      "6    2\n",
      "7    2\n",
      "8    2\n",
      "9    2\n",
      "Name: Genres, dtype: int64\n"
     ]
    }
   ],
   "source": [
    "#Count the genres in each row of the imdb dataframe and the tomatoes dataframe\n",
    "print(imdb['genres'].str.split('|').str.len().head(10))\n",
    "print(tomatoes['Genres'].str.split('|').str.len().head(10))"
   ]
  },
  {
   "cell_type": "markdown",
   "metadata": {},
   "source": [
    "Issue and justification: The genre column of the two tables contains multiple observations. This can be seen visually by viewing the values available in the genres column. This is seen programmatically by splitting the genre column on the \"|\" separator and counting the number of observations in each row."
   ]
  },
  {
   "cell_type": "markdown",
   "metadata": {
    "id": "4ffMoRGSwzYj"
   },
   "source": [
    "### Tidiness Issue 2: "
   ]
  },
  {
   "cell_type": "code",
   "execution_count": 111,
   "metadata": {
    "id": "XUpeoqokw5Qt"
   },
   "outputs": [
    {
     "name": "stdout",
     "output_type": "stream",
     "text": [
      "0                                              Avatar \n",
      "1            Pirates of the Caribbean: At World's End \n",
      "2                                             Spectre \n",
      "3                               The Dark Knight Rises \n",
      "4    Star Wars: Episode VII - The Force Awakens    ...\n",
      "5                                         John Carter \n",
      "6                                        Spider-Man 3 \n",
      "7                                             Tangled \n",
      "8                             Avengers: Age of Ultron \n",
      "9              Harry Potter and the Half-Blood Prince \n",
      "Name: movie_title, dtype: string\n"
     ]
    }
   ],
   "source": [
    "#Visually look at the first 10 rows movie titles of the imdb dataframe  \n",
    "print(imdb['movie_title'].head(10))"
   ]
  },
  {
   "cell_type": "code",
   "execution_count": 112,
   "metadata": {
    "id": "c8JK4DoXxtFA"
   },
   "outputs": [
    {
     "name": "stdout",
     "output_type": "stream",
     "text": [
      "index\n",
      "0                                 Black Panther (2018)\n",
      "1                            Mad Max: Fury Road (2015)\n",
      "2                                  Wonder Woman (2017)\n",
      "3                                    Metropolis (1927)\n",
      "4                                          Coco (2017)\n",
      "5                                       Dunkirk (2017)\n",
      "6                                 Incredibles 2 (2018)\n",
      "7                      Star Wars: The Last Jedi (2017)\n",
      "8                                         Logan (2017)\n",
      "9    Star Wars: Episode VII - The Force Awakens (2015)\n",
      "Name: Title, dtype: string\n"
     ]
    }
   ],
   "source": [
    "#Visually look at the first 10 rows movie titles of the tomatoes dataframe\n",
    "print(tomatoes['Title'].head(10))"
   ]
  },
  {
   "cell_type": "code",
   "execution_count": 113,
   "metadata": {},
   "outputs": [
    {
     "name": "stdout",
     "output_type": "stream",
     "text": [
      "Index(['color', 'director_name', 'num_critic_for_reviews', 'duration',\n",
      "       'director_facebook_likes', 'actor_3_facebook_likes', 'actor_2_name',\n",
      "       'actor_1_facebook_likes', 'gross', 'genres', 'actor_1_name',\n",
      "       'movie_title', 'num_voted_users', 'cast_total_facebook_likes',\n",
      "       'actor_3_name', 'facenumber_in_poster', 'plot_keywords',\n",
      "       'movie_imdb_link', 'num_user_for_reviews', 'language', 'country',\n",
      "       'content_rating', 'budget', 'title_year', 'actor_2_facebook_likes',\n",
      "       'imdb_score', 'aspect_ratio', 'movie_facebook_likes'],\n",
      "      dtype='object')\n",
      "Index(['Rank', 'Title', 'RatingTomatometer', 'No. of Reviews', 'Genres'], dtype='object')\n"
     ]
    }
   ],
   "source": [
    "#Review the column names of the imdb dataframe and the tomatoes dataframe\n",
    "print(imdb.columns)\n",
    "print(tomatoes.columns)"
   ]
  },
  {
   "cell_type": "markdown",
   "metadata": {},
   "source": [
    "Issue and justification: The two datasets are largely for a single observation but are stored in two datasets. If we look at the first ten title of each table we can see that Star Wars Episode VI is in both datasets. Programmatically reviewing the columns between the two tables we can see that each dataset contains information for movies and so is observing the same thing."
   ]
  },
  {
   "cell_type": "markdown",
   "metadata": {
    "id": "D6gmLnBttpCh"
   },
   "source": [
    "## 3. Clean data\n",
    "Clean the data to solve the 4 issues corresponding to data quality and tidiness found in the assessing step. **Make sure you include justifications for your cleaning decisions.**\n",
    "\n",
    "After the cleaning for each issue, please use **either** the visually or programatical method to validate the cleaning was succesful.\n",
    "\n",
    "At this stage, you are also expected to remove variables that are unnecessary for your analysis and combine your datasets. Depending on your datasets, you may choose to perform variable combination and elimination before or after the cleaning stage. Your dataset must have **at least** 4 variables after combining the data."
   ]
  },
  {
   "cell_type": "code",
   "execution_count": 114,
   "metadata": {},
   "outputs": [],
   "source": [
    "#Make copies of the datasets to ensure the raw dataframes are not impacted\n",
    "imdb_raw = imdb.copy()\n",
    "tomatoes_raw = tomatoes.copy()"
   ]
  },
  {
   "cell_type": "markdown",
   "metadata": {
    "id": "FmFhN52Yyn3l"
   },
   "source": [
    "### **Quality Issue 1: Missing values**"
   ]
  },
  {
   "cell_type": "code",
   "execution_count": 115,
   "metadata": {
    "id": "9UejDWrNMW4a"
   },
   "outputs": [],
   "source": [
    "#Remove the columns that won't be used in the analysis (keeping gross, budget, genres, and movie_title) in the imdb dataframe\n",
    "imdb = imdb[['movie_title', 'gross', 'budget', 'genres']].copy()\n",
    "#Remove the columns that won't be used in the analysis (keeping RatingTomatometer, Genres, and Title) in the tomatoes dataframe\n",
    "tomatoes = tomatoes[['Title', 'RatingTomatometer', 'Genres']].copy()\n",
    "#Drop the rows with missing values in the imdb dataframe and the tomatoes dataframe\n",
    "imdb.dropna(inplace=True)\n",
    "tomatoes.dropna(inplace=True)"
   ]
  },
  {
   "cell_type": "code",
   "execution_count": 116,
   "metadata": {
    "id": "oUBee-LPytkv"
   },
   "outputs": [
    {
     "name": "stdout",
     "output_type": "stream",
     "text": [
      "0\n",
      "0\n"
     ]
    }
   ],
   "source": [
    "#Check the number of rows with NA values in the imdb dataframe and the tomatoes dataframe after dropping missing values\n",
    "print(imdb.isnull().sum().sum())\n",
    "print(tomatoes.isnull().sum().sum())"
   ]
  },
  {
   "cell_type": "markdown",
   "metadata": {},
   "source": [
    "Justification: Since the question I want to look at is focused on the relationship between gross revenue and budget with the Rotten Tomatoes score I removed the other columns as a missing value in those fields is not an issue for the question at hand. I then remove any rows that are missing values in the remaining columns as each value is needed to answer the intended question"
   ]
  },
  {
   "cell_type": "markdown",
   "metadata": {
    "id": "n_DAUbJrymBL"
   },
   "source": [
    "### **Quality Issue 2: Title format**"
   ]
  },
  {
   "cell_type": "code",
   "execution_count": 117,
   "metadata": {
    "id": "5Yfb-Yu5MTuE"
   },
   "outputs": [],
   "source": [
    "#Convert the titles columns to be a consistent format without the year in the title in both dataframes\n",
    "imdb['movie_title'] = imdb['movie_title'].str.replace(r'\\(\\d{4}\\)', '', regex=True).str.strip()\n",
    "tomatoes['Title'] = tomatoes['Title'].str.replace(r'\\(\\d{4}\\)', '', regex=True).str.strip()\n",
    "#Set the titles columns to lowercase in both dataframes\n",
    "imdb['movie_title'] = imdb['movie_title'].str.lower()\n",
    "tomatoes['Title'] = tomatoes['Title'].str.lower()"
   ]
  },
  {
   "cell_type": "code",
   "execution_count": 118,
   "metadata": {
    "id": "ionB2sRaMUmY"
   },
   "outputs": [
    {
     "name": "stdout",
     "output_type": "stream",
     "text": [
      "0                                       avatar\n",
      "1     pirates of the caribbean: at world's end\n",
      "2                                      spectre\n",
      "3                        the dark knight rises\n",
      "5                                  john carter\n",
      "6                                 spider-man 3\n",
      "7                                      tangled\n",
      "8                      avengers: age of ultron\n",
      "9       harry potter and the half-blood prince\n",
      "10          batman v superman: dawn of justice\n",
      "Name: movie_title, dtype: string\n",
      "index\n",
      "0                                 black panther\n",
      "1                            mad max: fury road\n",
      "2                                  wonder woman\n",
      "3                                    metropolis\n",
      "4                                          coco\n",
      "5                                       dunkirk\n",
      "6                                 incredibles 2\n",
      "7                      star wars: the last jedi\n",
      "8                                         logan\n",
      "9    star wars: episode vii - the force awakens\n",
      "Name: Title, dtype: string\n"
     ]
    }
   ],
   "source": [
    "#Check the first 10 rows of the imdb dataframe and the tomatoes dataframe after removing the year from the titles\n",
    "print(imdb['movie_title'].head(10))\n",
    "print(tomatoes['Title'].head(10))"
   ]
  },
  {
   "cell_type": "markdown",
   "metadata": {},
   "source": [
    "Justification: Removed the year from the datasets and set them to lowercase to ensure they have the same format."
   ]
  },
  {
   "cell_type": "markdown",
   "metadata": {
    "id": "bIUrrfSNyOPR"
   },
   "source": [
    "### **Tidiness Issue 1: Genre column**"
   ]
  },
  {
   "cell_type": "code",
   "execution_count": 119,
   "metadata": {
    "id": "fib0zAm333bn"
   },
   "outputs": [],
   "source": [
    "#Drop the genres column from the imdb dataframe and the tomatoes dataframe\n",
    "imdb.drop(columns=['genres'], inplace=True)\n",
    "tomatoes.drop(columns=['Genres'], inplace=True)"
   ]
  },
  {
   "cell_type": "code",
   "execution_count": 120,
   "metadata": {
    "id": "yhrnUGY_Nk8B"
   },
   "outputs": [
    {
     "name": "stdout",
     "output_type": "stream",
     "text": [
      "Index(['movie_title', 'gross', 'budget'], dtype='object')\n",
      "Index(['Title', 'RatingTomatometer'], dtype='object')\n"
     ]
    }
   ],
   "source": [
    "#Show the column names of the imdb dataframe and the tomatoes dataframe after dropping the genres column\n",
    "print(imdb.columns)\n",
    "print(tomatoes.columns)"
   ]
  },
  {
   "cell_type": "markdown",
   "metadata": {},
   "source": [
    "Justification: Since the genre column is also not needed for the question I am trying to answer we can simply drop the column rather than creating a separate table to house each observed genre of the movies."
   ]
  },
  {
   "cell_type": "markdown",
   "metadata": {
    "id": "o51Bt8kwyTzk"
   },
   "source": [
    "### **Tidiness Issue 2: Two tables for one observation**"
   ]
  },
  {
   "cell_type": "code",
   "execution_count": 121,
   "metadata": {
    "id": "7zW8O5yx4Y9O"
   },
   "outputs": [],
   "source": [
    "#Drop duplicate rows based on the movie titles in both dataframes\n",
    "imdb = imdb.drop_duplicates(subset=['movie_title'])\n",
    "tomatoes = tomatoes.drop_duplicates(subset=['Title'])\n",
    "\n",
    "#Merge on the unique titles\n",
    "merged_df = pd.merge(imdb, tomatoes, left_on='movie_title', right_on='Title', how='inner')\n",
    "\n",
    "# Combine the 'movie_title' and 'Title' columns into a single 'title' column, then drop the originals\n",
    "merged_df['title'] = merged_df['movie_title']  \n",
    "merged_df.drop(['movie_title', 'Title'], axis=1, inplace=True)"
   ]
  },
  {
   "cell_type": "code",
   "execution_count": 122,
   "metadata": {
    "id": "q6I_Sr7lxXi5"
   },
   "outputs": [
    {
     "name": "stdout",
     "output_type": "stream",
     "text": [
      "         gross       budget  RatingTomatometer  \\\n",
      "0  200807262.0  260000000.0                 89   \n",
      "1  301956980.0  250000000.0                 83   \n",
      "2   89289910.0  215000000.0                 31   \n",
      "3  218051260.0  207000000.0                 98   \n",
      "4  658672302.0  200000000.0                 89   \n",
      "5  407197282.0  250000000.0                 91   \n",
      "6  304360277.0  200000000.0                 92   \n",
      "7  373377893.0  200000000.0                 93   \n",
      "8  414984497.0  200000000.0                 98   \n",
      "9  233914986.0  200000000.0                 90   \n",
      "\n",
      "                                    title  \n",
      "0                                 tangled  \n",
      "1  harry potter and the half-blood prince  \n",
      "2                         the lone ranger  \n",
      "3                               king kong  \n",
      "4                                 titanic  \n",
      "5              captain america: civil war  \n",
      "6                                 skyfall  \n",
      "7                            spider-man 2  \n",
      "8                             toy story 3  \n",
      "9              x-men: days of future past  \n"
     ]
    }
   ],
   "source": [
    "#Show the first 10 rows of the combined dataframe\n",
    "print(merged_df.head(10))"
   ]
  },
  {
   "cell_type": "markdown",
   "metadata": {},
   "source": [
    "Justification: I first removed any remaining duplicated rows in the data set. I then merged the datasets on the title columns. At that point I then created a new title column and dropped the two orignal title columns. This allows me to get a single table to the observation."
   ]
  },
  {
   "cell_type": "markdown",
   "metadata": {
    "id": "F42urHuzttjF"
   },
   "source": [
    "## 4. Update your data store\n",
    "Update your local database/data store with the cleaned data, following best practices for storing your cleaned data:\n",
    "\n",
    "- Must maintain different instances / versions of data (raw and cleaned data)\n",
    "- Must name the dataset files informatively\n",
    "- Ensure both the raw and cleaned data is saved to your database/data store"
   ]
  },
  {
   "cell_type": "code",
   "execution_count": 123,
   "metadata": {
    "id": "V3uay7EJUV_L"
   },
   "outputs": [],
   "source": [
    "#Save the merged dataframe to a CSV file indicating it is the cleaned version\n",
    "merged_df.to_csv('imdb_rotten_tomatoes_cleaned.csv', index=False)"
   ]
  },
  {
   "cell_type": "markdown",
   "metadata": {
    "id": "cGy_yddGtzhM"
   },
   "source": [
    "## 5. Answer the research question\n",
    "\n",
    "### **5.1:** Define and answer the research question \n",
    "Going back to the problem statement in step 1, use the cleaned data to answer the question you raised. Produce **at least** two visualizations using the cleaned data and explain how they help you answer the question."
   ]
  },
  {
   "cell_type": "markdown",
   "metadata": {
    "id": "gjedE4s4ZkEd"
   },
   "source": [
    "I want to take a look at how increases in money correlate with a movies Rotten Tomatoes score. Specifically I will take a look at how gross revenue and budget impact the movies score on Rotten Tomatoes."
   ]
  },
  {
   "cell_type": "code",
   "execution_count": 124,
   "metadata": {
    "id": "Lkw3rW9kZmOm"
   },
   "outputs": [
    {
     "data": {
      "image/png": "[encoded data removed]",
      "text/plain": [
       "<Figure size 1000x600 with 1 Axes>"
      ]
     },
     "metadata": {},
     "output_type": "display_data"
    }
   ],
   "source": [
    "#Create a chart showing the correlation between the gross revenue and the Rotten Tomatoes rating\n",
    "plt.figure(figsize=(10, 6))\n",
    "plt.scatter(merged_df['gross'], merged_df['RatingTomatometer'], alpha=0.5)\n",
    "plt.title('Correlation between Gross Revenue and Rotten Tomatoes Rating')\n",
    "plt.xlabel('Gross Revenue')\n",
    "plt.ylabel('Rotten Tomatoes Rating')\n",
    "plt.xscale('log')  # Use log scale for better visibility\n",
    "plt.yscale('linear')  # Linear scale for ratings\n",
    "plt.grid(True)\n",
    "plt.show()"
   ]
  },
  {
   "cell_type": "markdown",
   "metadata": {},
   "source": [
    "Gross revenue does not appear to have any strong correlation with the Rotten Tomatoes score a movie receives."
   ]
  },
  {
   "cell_type": "code",
   "execution_count": 125,
   "metadata": {
    "id": "6fdK_8ZGZm9R"
   },
   "outputs": [
    {
     "data": {
      "image/png": "[encoded data removed]",
      "text/plain": [
       "<Figure size 1000x600 with 1 Axes>"
      ]
     },
     "metadata": {},
     "output_type": "display_data"
    }
   ],
   "source": [
    "#Create a plot showing the correlation between the budget and the Rotten Tomatoes rating\n",
    "plt.figure(figsize=(10, 6))\n",
    "plt.scatter(merged_df['budget'], merged_df['RatingTomatometer'], alpha=0.5, color='orange')\n",
    "plt.title('Correlation between Budget and Rotten Tomatoes Rating')\n",
    "plt.xlabel('Budget')\n",
    "plt.ylabel('Rotten Tomatoes Rating')\n",
    "plt.xscale('log')  # Use log scale for better visibility    \n",
    "plt.yscale('linear')  # Linear scale for ratings\n",
    "plt.grid(True)\n",
    "plt.show()\n"
   ]
  },
  {
   "cell_type": "markdown",
   "metadata": {
    "id": "K5RgvMGUZoHn"
   },
   "source": [
    "The budget also doesn't appear to have any siginificant correlation to the score a movie receives on Rotten Tomatoes."
   ]
  },
  {
   "cell_type": "markdown",
   "metadata": {
    "id": "0ezWXXZVj-TP"
   },
   "source": [
    "### **5.2:** Reflection\n",
    "In 2-4 sentences, if you had more time to complete the project, what actions would you take? For example, which data quality and structural issues would you look into further, and what research questions would you further explore?"
   ]
  },
  {
   "cell_type": "markdown",
   "metadata": {
    "id": "XB3RBDG5kFe1"
   },
   "source": [
    "If I had more time I would likely look into more variables from the data to see how they correlate to the Rotten Tomatoes score. I may take a look at how Facebook likes impacts the Rotten Tomatoes score to see if a positive social media presence seems to impact the score."
   ]
  }
 ],
 "metadata": {
  "colab": {
   "provenance": []
  },
  "kernelspec": {
   "display_name": "Python 3",
   "language": "python",
   "name": "python3"
  },
  "language_info": {
   "codemirror_mode": {
    "name": "ipython",
    "version": 3
   },
   "file_extension": ".py",
   "mimetype": "text/x-python",
   "name": "python",
   "nbconvert_exporter": "python",
   "pygments_lexer": "ipython3",
   "version": "3.13.1"
  }
 },
 "nbformat": 4,
 "nbformat_minor": 1
}
